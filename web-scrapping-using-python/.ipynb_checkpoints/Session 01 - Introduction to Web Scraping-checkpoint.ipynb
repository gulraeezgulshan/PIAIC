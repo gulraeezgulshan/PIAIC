{
 "cells": [
  {
   "cell_type": "markdown",
   "metadata": {},
   "source": [
    "# 1.1 What Is Web Scraping?\n",
    "Web scraping (also called web harvesting, web data extraction, or even web data mining), can be defined as the construction of an agent to download, parse, and organize data from the web in an automated manner."
   ]
  },
  {
   "cell_type": "markdown",
   "metadata": {},
   "source": [
    "## 1.1.1 Why Web Scraping for Data Science\n",
    "\n",
    "* There might be an interesting table on a Wikipedia page (or pages) you want to retrieve to perform some statistical analysis.\n",
    "* Perhaps you want to get a list of reviews from a movie site to perform text mining, create a recommendation engine, or build a predictive model to spot fake reviews\n",
    "* You might wish to get a listing of properties on a real-estate site to build an appealing geo-visualization\n",
    "* You’d like to gather additional features to enrich your data set based on information found on the web, say, weather information to forecast, for example, soft drink sales.\n",
    "* You might be wondering about doing social network analytics using profile data found on a web forum\n",
    "* It might be interesting to monitor a news site for trending new stories on a particular topic of interest"
   ]
  },
  {
   "cell_type": "markdown",
   "metadata": {},
   "source": [
    "## 1.1.2 API vs Web Scraping\n",
    "Many websites nowadays provide such an API that provides a means for the outside world to access their data repository in a structured way — meant to be consumed and accessed by computer programs, not humans (although the programs are written by humans, of course). Twitter, Facebook, LinkedIn, and Google, for instance, all provide such APIs in order to search and post tweets, get a list of your friends and their likes, see who you’re connected with, and so on. So why, then, would we still need web scraping?\n",
    "\n"
   ]
  },
  {
   "cell_type": "markdown",
   "metadata": {},
   "source": [
    "## 1.1.3 Reasons why web scraping might be preferable over the use of an API:\n",
    "\n",
    "* The website you want to extract data from does not provide an API.\n",
    "* The API provided is not free (whereas the website is).\n",
    "* The API provided is rate limited: meaning you can only access it a number of certain times per second, per day.\n",
    "* The API does not expose all the data you wish to obtain (whereas the website does)."
   ]
  },
  {
   "cell_type": "markdown",
   "metadata": {},
   "source": [
    "## 1.1.4 Who Is Using Web Scraping?\n",
    "\n",
    "* Many of Google’s products have benefited from Google’s core business of crawling the web. Google Translate, for instance, utilizes text stored on the web to train and improve itself.\n",
    "* Scraping is being applied a lot in HR and employee analytics. The San Francisco-based hiQ startup specializes in selling employee analyses by collecting and examining public profile information, for instance, from LinkedIn (who was not happy about this but was so far unable to prevent this practice following a court case\n",
    "* Digital marketeers and digital artists often use data from the web for all sorts of interesting and creative projects. “We Feel Fine” by Jonathan Harris and Sep Kamvar, for instance, scraped various blog sites for phrases starting with “I feel,” the  results of which could then visualize how the world was feeling throughout the day.\n",
    "* In another study, messages scraped from Twitter, blogs, and other social media were scraped to construct a data set that was used to build a predictive model toward identifying patterns of depression and suicidal thoughts. This might be an invaluable tool for aid providers, though of course it warrants a thorough consideration of privacy related issues as well\n",
    "* Emmanuel Sales also scraped Twitter, though here with the goal to make sense of his own social circle and time line of posts (see https://emsal.me/blog/4). An interesting observation here is that the author first considered using Twitter’s API, but found that “Twitter heavily rate limits doing this: if you want to get a user’s follow list, then you can only do so 15 times every 15 minutes, which is pretty unwieldy to work with.”\n",
    "* In a paper titled “The Billion Prices Project: Using Online Prices for Measurement and Research” (see http://www.nber.org/papers/ w22111), web scraping was used to collect a data set of online price information that was used to construct a robust daily price index for multiple countries.\n",
    "* Banks and other financial institutions are using web scraping for competitor analysis. For example, banks frequently scrape competitors’ sites to get an idea of where branches are being opened or closed, or to track loan rates offered — all of which is interesting information that can be incorporated in their internal models and forecasting. Investment firms also often use web scraping, for instance, to keep track of news articles regarding assets in their portfolio.\n",
    "* Sociopolitical scientists are scraping social websites to track population sentiment and political orientation. A famous article called “Dissecting Trump’s Most Rabid Online Following” (see https://fivethirtyeight.com/features/dissecting-trumps-most-rabid-online-following/) analyzes user discussions on Reddit using semantic analysis to characterize the online followers and fans of Donald Trump.\n",
    "* One researcher was able to train a deep learning model based on scraped images from Tinder and Instagram together with their “likes” to predict whether an image would be deemed “attractive” (see http://karpathy.github.io/2015/10/25/selfie/). Smartphone makers are already incorporating such models in their photo apps to help you brush up your pictures.\n",
    "* In “The Girl with the Brick Earring,” Lucas Woltmann sets out to scrape Lego brick information from https://www.bricklink.comto determine the best selection of Lego pieces (see http:// lucaswoltmann.de/art'n'images/2017/04/08/the-girl-with-thebrick- earring. html) to represent an image (one of the co-authors of this book is an avid Lego fan, so we had to include this example).\n",
    "* In “Analyzing 1000+ Greek Wines With Python,” Florents Tselai scrapes information about a thousand wine varieties from a Greek wine shop (see https://tselai.com/greek-wines-analysis.html) to analyze their origin, rating, type, and strength (one of the coauthors of this book is an avid wine fan, so we had to include this example).\n",
    "* Lyst, a London-based online fashion marketplace, scraped the web for semi-structured information about fashion products and then applied machine learning to present this information cleanly and elegantly for consumers from one central website. Other data scientists have done similar projects to cluster similar fashion products (see http://talks.lystit.com/dsl-scraping-presentation/).\n",
    "* We’ve supervised a study where web scraping was used to extract information from job sites, to get an idea regarding the popularity of different data science- and analytics-related tools in the workplace (spoiler: Python and R were both rising steadily).\n",
    "* Another study from our research group involved using web scraping to monitor news outlets and web forums to track public sentiment regarding Bitcoin.\n"
   ]
  },
  {
   "cell_type": "code",
   "execution_count": null,
   "metadata": {},
   "outputs": [],
   "source": []
  }
 ],
 "metadata": {
  "kernelspec": {
   "display_name": "Python 3",
   "language": "python",
   "name": "python3"
  },
  "language_info": {
   "codemirror_mode": {
    "name": "ipython",
    "version": 3
   },
   "file_extension": ".py",
   "mimetype": "text/x-python",
   "name": "python",
   "nbconvert_exporter": "python",
   "pygments_lexer": "ipython3",
   "version": "3.7.3"
  }
 },
 "nbformat": 4,
 "nbformat_minor": 2
}
