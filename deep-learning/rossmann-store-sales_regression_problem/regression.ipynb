{
 "cells": [
  {
   "cell_type": "markdown",
   "metadata": {},
   "source": [
    "# Rossmann Store Sales"
   ]
  },
  {
   "cell_type": "markdown",
   "metadata": {},
   "source": [
    "Rossmann is one of the largest drugstore chains in Germany, with operations across Europe. As of 2018, they have well over 3,900 stores in Europe with an annual turnover of 9 billion euros. \n",
    "### Our task is to predict the sales for a few identified stores on a given day.\n",
    "\n",
    "We are going to develop an ML model that can learn the sales for a store as a function of internal, external, and temporal (time-based) attributes and then predict future sales given the attributes available."
   ]
  },
  {
   "cell_type": "markdown",
   "metadata": {},
   "source": [
    "## Problem Statement "
   ]
  },
  {
   "cell_type": "code",
   "execution_count": 1,
   "metadata": {},
   "outputs": [],
   "source": [
    "import pandas as pd\n",
    "import seaborn as sns\n",
    "import numpy as np\n",
    "%matplotlib inline\n",
    "from sklearn.model_selection import train_test_split\n",
    "from sklearn.preprocessing import LabelEncoder, OneHotEncoder"
   ]
  },
  {
   "cell_type": "code",
   "execution_count": 2,
   "metadata": {},
   "outputs": [
    {
     "name": "stderr",
     "output_type": "stream",
     "text": [
      "C:\\Users\\Gulraiz\\Anaconda3\\lib\\site-packages\\IPython\\core\\interactiveshell.py:3049: DtypeWarning: Columns (7) have mixed types. Specify dtype option on import or set low_memory=False.\n",
      "  interactivity=interactivity, compiler=compiler, result=result)\n"
     ]
    }
   ],
   "source": [
    "df  = pd.read_csv(\"train.csv\")"
   ]
  },
  {
   "cell_type": "code",
   "execution_count": 42,
   "metadata": {},
   "outputs": [
    {
     "name": "stdout",
     "output_type": "stream",
     "text": [
      "Shape of the Dataset: (1017209, 9)\n"
     ]
    },
    {
     "data": {
      "text/html": [
       "<div>\n",
       "<style scoped>\n",
       "    .dataframe tbody tr th:only-of-type {\n",
       "        vertical-align: middle;\n",
       "    }\n",
       "\n",
       "    .dataframe tbody tr th {\n",
       "        vertical-align: top;\n",
       "    }\n",
       "\n",
       "    .dataframe thead th {\n",
       "        text-align: right;\n",
       "    }\n",
       "</style>\n",
       "<table border=\"1\" class=\"dataframe\">\n",
       "  <thead>\n",
       "    <tr style=\"text-align: right;\">\n",
       "      <th></th>\n",
       "      <th>Store</th>\n",
       "      <th>DayOfWeek</th>\n",
       "      <th>Date</th>\n",
       "      <th>Sales</th>\n",
       "      <th>Customers</th>\n",
       "      <th>Open</th>\n",
       "      <th>Promo</th>\n",
       "      <th>StateHoliday</th>\n",
       "      <th>SchoolHoliday</th>\n",
       "    </tr>\n",
       "  </thead>\n",
       "  <tbody>\n",
       "    <tr>\n",
       "      <th>0</th>\n",
       "      <td>1</td>\n",
       "      <td>5</td>\n",
       "      <td>2015-07-31</td>\n",
       "      <td>5263</td>\n",
       "      <td>555</td>\n",
       "      <td>1</td>\n",
       "      <td>1</td>\n",
       "      <td>0</td>\n",
       "      <td>1</td>\n",
       "    </tr>\n",
       "    <tr>\n",
       "      <th>1</th>\n",
       "      <td>2</td>\n",
       "      <td>5</td>\n",
       "      <td>2015-07-31</td>\n",
       "      <td>6064</td>\n",
       "      <td>625</td>\n",
       "      <td>1</td>\n",
       "      <td>1</td>\n",
       "      <td>0</td>\n",
       "      <td>1</td>\n",
       "    </tr>\n",
       "    <tr>\n",
       "      <th>2</th>\n",
       "      <td>3</td>\n",
       "      <td>5</td>\n",
       "      <td>2015-07-31</td>\n",
       "      <td>8314</td>\n",
       "      <td>821</td>\n",
       "      <td>1</td>\n",
       "      <td>1</td>\n",
       "      <td>0</td>\n",
       "      <td>1</td>\n",
       "    </tr>\n",
       "    <tr>\n",
       "      <th>3</th>\n",
       "      <td>4</td>\n",
       "      <td>5</td>\n",
       "      <td>2015-07-31</td>\n",
       "      <td>13995</td>\n",
       "      <td>1498</td>\n",
       "      <td>1</td>\n",
       "      <td>1</td>\n",
       "      <td>0</td>\n",
       "      <td>1</td>\n",
       "    </tr>\n",
       "    <tr>\n",
       "      <th>4</th>\n",
       "      <td>5</td>\n",
       "      <td>5</td>\n",
       "      <td>2015-07-31</td>\n",
       "      <td>4822</td>\n",
       "      <td>559</td>\n",
       "      <td>1</td>\n",
       "      <td>1</td>\n",
       "      <td>0</td>\n",
       "      <td>1</td>\n",
       "    </tr>\n",
       "  </tbody>\n",
       "</table>\n",
       "</div>"
      ],
      "text/plain": [
       "   Store  DayOfWeek        Date  Sales  Customers  Open  Promo StateHoliday  \\\n",
       "0      1          5  2015-07-31   5263        555     1      1            0   \n",
       "1      2          5  2015-07-31   6064        625     1      1            0   \n",
       "2      3          5  2015-07-31   8314        821     1      1            0   \n",
       "3      4          5  2015-07-31  13995       1498     1      1            0   \n",
       "4      5          5  2015-07-31   4822        559     1      1            0   \n",
       "\n",
       "   SchoolHoliday  \n",
       "0              1  \n",
       "1              1  \n",
       "2              1  \n",
       "3              1  \n",
       "4              1  "
      ]
     },
     "execution_count": 42,
     "metadata": {},
     "output_type": "execute_result"
    }
   ],
   "source": [
    "print(\"Shape of the Dataset:\",df.shape)\n",
    "#the head method displays the first 5 rows of the data\n",
    "df.head()"
   ]
  },
  {
   "cell_type": "code",
   "execution_count": 4,
   "metadata": {},
   "outputs": [
    {
     "name": "stdout",
     "output_type": "stream",
     "text": [
      "Shape of the Dataset: (1115, 10)\n"
     ]
    },
    {
     "data": {
      "text/html": [
       "<div>\n",
       "<style scoped>\n",
       "    .dataframe tbody tr th:only-of-type {\n",
       "        vertical-align: middle;\n",
       "    }\n",
       "\n",
       "    .dataframe tbody tr th {\n",
       "        vertical-align: top;\n",
       "    }\n",
       "\n",
       "    .dataframe thead th {\n",
       "        text-align: right;\n",
       "    }\n",
       "</style>\n",
       "<table border=\"1\" class=\"dataframe\">\n",
       "  <thead>\n",
       "    <tr style=\"text-align: right;\">\n",
       "      <th></th>\n",
       "      <th>Store</th>\n",
       "      <th>StoreType</th>\n",
       "      <th>Assortment</th>\n",
       "      <th>CompetitionDistance</th>\n",
       "      <th>CompetitionOpenSinceMonth</th>\n",
       "      <th>CompetitionOpenSinceYear</th>\n",
       "      <th>Promo2</th>\n",
       "      <th>Promo2SinceWeek</th>\n",
       "      <th>Promo2SinceYear</th>\n",
       "      <th>PromoInterval</th>\n",
       "    </tr>\n",
       "  </thead>\n",
       "  <tbody>\n",
       "    <tr>\n",
       "      <th>0</th>\n",
       "      <td>1</td>\n",
       "      <td>c</td>\n",
       "      <td>a</td>\n",
       "      <td>1270.0</td>\n",
       "      <td>9.0</td>\n",
       "      <td>2008.0</td>\n",
       "      <td>0</td>\n",
       "      <td>NaN</td>\n",
       "      <td>NaN</td>\n",
       "      <td>NaN</td>\n",
       "    </tr>\n",
       "    <tr>\n",
       "      <th>1</th>\n",
       "      <td>2</td>\n",
       "      <td>a</td>\n",
       "      <td>a</td>\n",
       "      <td>570.0</td>\n",
       "      <td>11.0</td>\n",
       "      <td>2007.0</td>\n",
       "      <td>1</td>\n",
       "      <td>13.0</td>\n",
       "      <td>2010.0</td>\n",
       "      <td>Jan,Apr,Jul,Oct</td>\n",
       "    </tr>\n",
       "    <tr>\n",
       "      <th>2</th>\n",
       "      <td>3</td>\n",
       "      <td>a</td>\n",
       "      <td>a</td>\n",
       "      <td>14130.0</td>\n",
       "      <td>12.0</td>\n",
       "      <td>2006.0</td>\n",
       "      <td>1</td>\n",
       "      <td>14.0</td>\n",
       "      <td>2011.0</td>\n",
       "      <td>Jan,Apr,Jul,Oct</td>\n",
       "    </tr>\n",
       "    <tr>\n",
       "      <th>3</th>\n",
       "      <td>4</td>\n",
       "      <td>c</td>\n",
       "      <td>c</td>\n",
       "      <td>620.0</td>\n",
       "      <td>9.0</td>\n",
       "      <td>2009.0</td>\n",
       "      <td>0</td>\n",
       "      <td>NaN</td>\n",
       "      <td>NaN</td>\n",
       "      <td>NaN</td>\n",
       "    </tr>\n",
       "    <tr>\n",
       "      <th>4</th>\n",
       "      <td>5</td>\n",
       "      <td>a</td>\n",
       "      <td>a</td>\n",
       "      <td>29910.0</td>\n",
       "      <td>4.0</td>\n",
       "      <td>2015.0</td>\n",
       "      <td>0</td>\n",
       "      <td>NaN</td>\n",
       "      <td>NaN</td>\n",
       "      <td>NaN</td>\n",
       "    </tr>\n",
       "  </tbody>\n",
       "</table>\n",
       "</div>"
      ],
      "text/plain": [
       "   Store StoreType Assortment  CompetitionDistance  CompetitionOpenSinceMonth  \\\n",
       "0      1         c          a               1270.0                        9.0   \n",
       "1      2         a          a                570.0                       11.0   \n",
       "2      3         a          a              14130.0                       12.0   \n",
       "3      4         c          c                620.0                        9.0   \n",
       "4      5         a          a              29910.0                        4.0   \n",
       "\n",
       "   CompetitionOpenSinceYear  Promo2  Promo2SinceWeek  Promo2SinceYear  \\\n",
       "0                    2008.0       0              NaN              NaN   \n",
       "1                    2007.0       1             13.0           2010.0   \n",
       "2                    2006.0       1             14.0           2011.0   \n",
       "3                    2009.0       0              NaN              NaN   \n",
       "4                    2015.0       0              NaN              NaN   \n",
       "\n",
       "     PromoInterval  \n",
       "0              NaN  \n",
       "1  Jan,Apr,Jul,Oct  \n",
       "2  Jan,Apr,Jul,Oct  \n",
       "3              NaN  \n",
       "4              NaN  "
      ]
     },
     "execution_count": 4,
     "metadata": {},
     "output_type": "execute_result"
    }
   ],
   "source": [
    "store  = pd.read_csv(\"store.csv\")\n",
    "print(\"Shape of the Dataset:\",store.shape)\n",
    "\n",
    "#Display the first 5 rows of data using the head method of pandas dataframe\n",
    "store.head(5)"
   ]
  },
  {
   "cell_type": "code",
   "execution_count": 5,
   "metadata": {},
   "outputs": [
    {
     "name": "stdout",
     "output_type": "stream",
     "text": [
      "(1017209, 18)\n"
     ]
    }
   ],
   "source": [
    "df_new = df.merge(store,on=[\"Store\"], how=\"inner\")\n",
    "print(df_new.shape)"
   ]
  },
  {
   "cell_type": "code",
   "execution_count": 9,
   "metadata": {},
   "outputs": [
    {
     "data": {
      "text/plain": [
       "Index(['Store', 'DayOfWeek', 'Date', 'Sales', 'Customers', 'Open', 'Promo',\n",
       "       'StateHoliday', 'SchoolHoliday', 'StoreType', 'Assortment',\n",
       "       'CompetitionDistance', 'CompetitionOpenSinceMonth',\n",
       "       'CompetitionOpenSinceYear', 'Promo2', 'Promo2SinceWeek',\n",
       "       'Promo2SinceYear', 'PromoInterval'],\n",
       "      dtype='object')"
      ]
     },
     "execution_count": 9,
     "metadata": {},
     "output_type": "execute_result"
    }
   ],
   "source": [
    "df_new.columns"
   ]
  },
  {
   "cell_type": "markdown",
   "metadata": {},
   "source": [
    "## Exploring Dataset"
   ]
  },
  {
   "cell_type": "code",
   "execution_count": 43,
   "metadata": {},
   "outputs": [
    {
     "name": "stdout",
     "output_type": "stream",
     "text": [
      "Distinct number of Stores : 1115\n",
      "Distinct number of Days : 942\n",
      "Average daily sales of all stores :  5773.82\n"
     ]
    }
   ],
   "source": [
    "#How many stores do we have the data for?\n",
    "print(\"Distinct number of Stores :\", len(df_new[\"Store\"].unique()))\n",
    "\n",
    "#How long do we have the data for?\n",
    "print(\"Distinct number of Days :\", len(df_new[\"Date\"].unique()))\n",
    "\n",
    "#What do the average sales for a day look like?\n",
    "print(\"Average daily sales of all stores : \",round(df_new[\"Sales\"].mean(),2))"
   ]
  },
  {
   "cell_type": "markdown",
   "metadata": {},
   "source": [
    "## Finding Data Types"
   ]
  },
  {
   "cell_type": "code",
   "execution_count": 7,
   "metadata": {},
   "outputs": [
    {
     "data": {
      "text/plain": [
       "Store                          int64\n",
       "DayOfWeek                      int64\n",
       "Date                          object\n",
       "Sales                          int64\n",
       "Customers                      int64\n",
       "Open                           int64\n",
       "Promo                          int64\n",
       "StateHoliday                  object\n",
       "SchoolHoliday                  int64\n",
       "StoreType                     object\n",
       "Assortment                    object\n",
       "CompetitionDistance          float64\n",
       "CompetitionOpenSinceMonth    float64\n",
       "CompetitionOpenSinceYear     float64\n",
       "Promo2                         int64\n",
       "Promo2SinceWeek              float64\n",
       "Promo2SinceYear              float64\n",
       "PromoInterval                 object\n",
       "dtype: object"
      ]
     },
     "execution_count": 7,
     "metadata": {},
     "output_type": "execute_result"
    }
   ],
   "source": [
    "df_new.dtypes"
   ]
  },
  {
   "cell_type": "markdown",
   "metadata": {},
   "source": [
    "## Working with Time"
   ]
  },
  {
   "cell_type": "code",
   "execution_count": 8,
   "metadata": {},
   "outputs": [
    {
     "data": {
      "text/plain": [
       "5    145845\n",
       "4    145845\n",
       "3    145665\n",
       "2    145664\n",
       "7    144730\n",
       "6    144730\n",
       "1    144730\n",
       "Name: DayOfWeek, dtype: int64"
      ]
     },
     "execution_count": 8,
     "metadata": {},
     "output_type": "execute_result"
    }
   ],
   "source": [
    "df_new[\"DayOfWeek\"].value_counts()"
   ]
  },
  {
   "cell_type": "code",
   "execution_count": null,
   "metadata": {},
   "outputs": [],
   "source": [
    "df_new[\"Date\"] = pd.to_datetime(df_new[\"Date\"])\n",
    "df_new[\"Month\"] = df_new[\"Date\"].dt.month\n",
    "df_new[\"Quarter\"] = df_new[\"Date\"].dt.quarter\n",
    "df_new[\"Year\"] = df_new[\"Date\"].dt.year\n",
    "df_new[\"Day\"] = df_new[\"Date\"].dt.day\n",
    "df_new[\"Week\"] = df_new[\"Date\"].dt.week\n",
    "\n",
    "df_new[\"Season\"] = np.where(df_new[\"Month\"].isin([3,4,5]),\"Spring\",\n",
    "                        np.where(df_new[\"Month\"].isin([6,7,8]),\"Summer\",\n",
    "                            np.where(df_new[\"Month\"].isin([9,10,11]),\"Fall\",\n",
    "                                np.where(df_new[\"Month\"].isin([12,1,2]),\"Winter\",\"None\"))))\n"
   ]
  },
  {
   "cell_type": "code",
   "execution_count": 11,
   "metadata": {},
   "outputs": [
    {
     "name": "stdout",
     "output_type": "stream",
     "text": [
      "        Date  Year  Month  Day  Week  Quarter  Season\n",
      "0 2015-07-31  2015      7   31    31        3  Summer\n",
      "1 2015-07-30  2015      7   30    31        3  Summer\n",
      "2 2015-07-29  2015      7   29    31        3  Summer\n",
      "3 2015-07-28  2015      7   28    31        3  Summer\n",
      "4 2015-07-27  2015      7   27    31        3  Summer\n"
     ]
    }
   ],
   "source": [
    "#Using the head command to view (only) the data and the newly engineered features\n",
    "print(df_new[[\"Date\",\"Year\",\"Month\",\"Day\",\"Week\",\"Quarter\",\"Season\"]].head())"
   ]
  },
  {
   "cell_type": "markdown",
   "metadata": {},
   "source": [
    "## Predicting Sales"
   ]
  },
  {
   "cell_type": "code",
   "execution_count": 12,
   "metadata": {},
   "outputs": [
    {
     "data": {
      "image/png": "[encoded data removed]",
      "text/plain": [
       "<Figure size 1080x576 with 1 Axes>"
      ]
     },
     "metadata": {
      "needs_background": "light"
     },
     "output_type": "display_data"
    }
   ],
   "source": [
    "#Import matplotlib, python most popular data visualizing library\n",
    "import matplotlib.pyplot as plt\n",
    "%matplotlib inline\n",
    "\n",
    "#Create a histogram to study the Daily Sales for the stores\n",
    "plt.figure(figsize=(15,8)) \n",
    "plt.hist(df_new[\"Sales\"])  \n",
    "plt.title(\"Histogram for Store Sales\")\n",
    "plt.xlabel(\"bins\")\n",
    "plt.xlabel(\"Frequency\")\n",
    "plt.show()"
   ]
  },
  {
   "cell_type": "markdown",
   "metadata": {},
   "source": [
    "## Exploring Numeric Columns"
   ]
  },
  {
   "cell_type": "code",
   "execution_count": 13,
   "metadata": {},
   "outputs": [
    {
     "data": {
      "text/plain": [
       "array([[<matplotlib.axes._subplots.AxesSubplot object at 0x0000018EA23709E8>,\n",
       "        <matplotlib.axes._subplots.AxesSubplot object at 0x0000018EA2856F98>,\n",
       "        <matplotlib.axes._subplots.AxesSubplot object at 0x0000018EA2415518>,\n",
       "        <matplotlib.axes._subplots.AxesSubplot object at 0x0000018EA243EA90>],\n",
       "       [<matplotlib.axes._subplots.AxesSubplot object at 0x0000018EA246F048>,\n",
       "        <matplotlib.axes._subplots.AxesSubplot object at 0x0000018EA24945C0>,\n",
       "        <matplotlib.axes._subplots.AxesSubplot object at 0x0000018EA24BBB38>,\n",
       "        <matplotlib.axes._subplots.AxesSubplot object at 0x0000018EA24EE128>],\n",
       "       [<matplotlib.axes._subplots.AxesSubplot object at 0x0000018EA24EE160>,\n",
       "        <matplotlib.axes._subplots.AxesSubplot object at 0x0000018EA253BBE0>,\n",
       "        <matplotlib.axes._subplots.AxesSubplot object at 0x0000018EA256E198>,\n",
       "        <matplotlib.axes._subplots.AxesSubplot object at 0x0000018EA2593710>],\n",
       "       [<matplotlib.axes._subplots.AxesSubplot object at 0x0000018EA25BCC88>,\n",
       "        <matplotlib.axes._subplots.AxesSubplot object at 0x0000018EA25EB240>,\n",
       "        <matplotlib.axes._subplots.AxesSubplot object at 0x0000018EA26137B8>,\n",
       "        <matplotlib.axes._subplots.AxesSubplot object at 0x0000018EA263CD30>],\n",
       "       [<matplotlib.axes._subplots.AxesSubplot object at 0x0000018EA289D2E8>,\n",
       "        <matplotlib.axes._subplots.AxesSubplot object at 0x0000018EA28C6860>,\n",
       "        <matplotlib.axes._subplots.AxesSubplot object at 0x0000018EA28EFDD8>,\n",
       "        <matplotlib.axes._subplots.AxesSubplot object at 0x0000018EA291E390>]],\n",
       "      dtype=object)"
      ]
     },
     "execution_count": 13,
     "metadata": {},
     "output_type": "execute_result"
    },
    {
     "data": {
      "image/png": "[encoded data removed]",
      "text/plain": [
       "<Figure size 1440x720 with 20 Axes>"
      ]
     },
     "metadata": {
      "needs_background": "light"
     },
     "output_type": "display_data"
    }
   ],
   "source": [
    "#Use the  histogram function provided by the Pandas object\n",
    "#The function returns a cross-tab histogram plot for all numeric columns in the data\n",
    "df_new.hist(figsize=(20,10))"
   ]
  },
  {
   "cell_type": "markdown",
   "metadata": {},
   "source": [
    "### Checking missing data in dataset"
   ]
  },
  {
   "cell_type": "code",
   "execution_count": 14,
   "metadata": {},
   "outputs": [
    {
     "data": {
      "text/plain": [
       "Store                         0.000000\n",
       "DayOfWeek                     0.000000\n",
       "Date                          0.000000\n",
       "Sales                         0.000000\n",
       "Customers                     0.000000\n",
       "Open                          0.000000\n",
       "Promo                         0.000000\n",
       "StateHoliday                  0.000000\n",
       "SchoolHoliday                 0.000000\n",
       "StoreType                     0.000000\n",
       "Assortment                    0.000000\n",
       "CompetitionDistance           0.259730\n",
       "CompetitionOpenSinceMonth    31.787764\n",
       "CompetitionOpenSinceYear     31.787764\n",
       "Promo2                        0.000000\n",
       "Promo2SinceWeek              49.943620\n",
       "Promo2SinceYear              49.943620\n",
       "PromoInterval                49.943620\n",
       "Month                         0.000000\n",
       "Quarter                       0.000000\n",
       "Year                          0.000000\n",
       "Day                           0.000000\n",
       "Week                          0.000000\n",
       "Season                        0.000000\n",
       "dtype: float64"
      ]
     },
     "execution_count": 14,
     "metadata": {},
     "output_type": "execute_result"
    }
   ],
   "source": [
    "df_new.isnull().sum()/df_new.shape[0] * 100"
   ]
  },
  {
   "cell_type": "code",
   "execution_count": 15,
   "metadata": {},
   "outputs": [],
   "source": [
    "#Replace nulls with the mode\n",
    "df_new[\"CompetitionDistance\"]= df_new[\"CompetitionDistance\"].fillna(df_new[\"CompetitionDistance\"].mode()[0])"
   ]
  },
  {
   "cell_type": "code",
   "execution_count": 16,
   "metadata": {},
   "outputs": [
    {
     "data": {
      "text/plain": [
       "0.0"
      ]
     },
     "execution_count": 16,
     "metadata": {},
     "output_type": "execute_result"
    }
   ],
   "source": [
    "#Double check if we still see nulls for the column\n",
    "df_new[\"CompetitionDistance\"].isnull().sum()/df_new.shape[0] * 100"
   ]
  },
  {
   "cell_type": "markdown",
   "metadata": {},
   "source": [
    "## Understanding the Categorical Features"
   ]
  },
  {
   "cell_type": "code",
   "execution_count": 17,
   "metadata": {},
   "outputs": [
    {
     "data": {
      "image/png": "[encoded data removed]",
      "text/plain": [
       "<Figure size 432x288 with 1 Axes>"
      ]
     },
     "metadata": {},
     "output_type": "display_data"
    }
   ],
   "source": [
    "import seaborn as sns  #Seaborn is another powerful visulization library for Python\n",
    "sns.set(style=\"whitegrid\")\n",
    "\n",
    "#Create the bar plot for Average Sales acrss different Seasons\n",
    "ax = sns.barplot(x=\"Season\", y=\"Sales\", data=df_new)"
   ]
  },
  {
   "cell_type": "code",
   "execution_count": 18,
   "metadata": {},
   "outputs": [
    {
     "data": {
      "image/png": "[encoded data removed]",
      "text/plain": [
       "<Figure size 432x288 with 1 Axes>"
      ]
     },
     "metadata": {},
     "output_type": "display_data"
    }
   ],
   "source": [
    "#Create the bar plot for Average Sales acrss different Assortments\n",
    "ax = sns.barplot(x=\"Assortment\", y=\"Sales\", data=df_new)"
   ]
  },
  {
   "cell_type": "code",
   "execution_count": 19,
   "metadata": {},
   "outputs": [
    {
     "data": {
      "image/png": "[encoded data removed]",
      "text/plain": [
       "<Figure size 432x288 with 1 Axes>"
      ]
     },
     "metadata": {},
     "output_type": "display_data"
    }
   ],
   "source": [
    "#Create the bar plot for Average Sales acrss different Store Types\n",
    "ax = sns.barplot(x=\"StoreType\", y=\"Sales\", data=df_new)"
   ]
  },
  {
   "cell_type": "code",
   "execution_count": 20,
   "metadata": {},
   "outputs": [
    {
     "data": {
      "image/png": "[encoded data removed]",
      "text/plain": [
       "<Figure size 432x288 with 1 Axes>"
      ]
     },
     "metadata": {},
     "output_type": "display_data"
    }
   ],
   "source": [
    "ax = sns.barplot(x=\"Season\", y=\"Sales\", data=df_new,estimator=np.size)"
   ]
  },
  {
   "cell_type": "code",
   "execution_count": 21,
   "metadata": {},
   "outputs": [
    {
     "data": {
      "image/png": "[encoded data removed]",
      "text/plain": [
       "<Figure size 432x288 with 1 Axes>"
      ]
     },
     "metadata": {},
     "output_type": "display_data"
    }
   ],
   "source": [
    "ax = sns.barplot(x=\"Assortment\", y=\"Sales\", data=df_new,estimator=np.size)"
   ]
  },
  {
   "cell_type": "code",
   "execution_count": 22,
   "metadata": {},
   "outputs": [
    {
     "data": {
      "image/png": "[encoded data removed]",
      "text/plain": [
       "<Figure size 432x288 with 1 Axes>"
      ]
     },
     "metadata": {},
     "output_type": "display_data"
    }
   ],
   "source": [
    "ax = sns.barplot(x=\"StoreType\", y=\"Sales\", data=df_new,estimator=np.size)"
   ]
  },
  {
   "cell_type": "markdown",
   "metadata": {},
   "source": [
    "## Data Engineering"
   ]
  },
  {
   "cell_type": "code",
   "execution_count": 23,
   "metadata": {},
   "outputs": [],
   "source": [
    "#Define a variable for each type of feature\n",
    "target = [\"Sales\"]\n",
    "numeric_columns = [\"Customers\",\"Open\",\"Promo\",\"Promo2\",\"StateHoliday\",\"SchoolHoliday\",\"CompetitionDistance\"]\n",
    "categorical_columns = [\"DayOfWeek\",\"Quarter\",\"Month\",\"Year\", \"StoreType\",\"Assortment\",\"Season\"]"
   ]
  },
  {
   "cell_type": "code",
   "execution_count": 24,
   "metadata": {},
   "outputs": [],
   "source": [
    "#Define a function that will intake the raw dataframe and the column name and return a one hot encoded DF\n",
    "def create_ohe(df, col):\n",
    "    le = LabelEncoder()\n",
    "    a=le.fit_transform(df_new[col]).reshape(-1,1)\n",
    "    ohe = OneHotEncoder(sparse=False)\n",
    "    column_names = [col+ \"_\"+ str(i) for i in le.classes_]\n",
    "    return(pd.DataFrame(ohe.fit_transform(a),columns =column_names))"
   ]
  },
  {
   "cell_type": "code",
   "execution_count": 25,
   "metadata": {},
   "outputs": [
    {
     "name": "stderr",
     "output_type": "stream",
     "text": [
      "C:\\Users\\Gulraiz\\Anaconda3\\lib\\site-packages\\sklearn\\preprocessing\\_encoders.py:371: FutureWarning: The handling of integer data will change in version 0.22. Currently, the categories are determined based on the range [0, max(values)], while in the future they will be determined based on the unique values.\n",
      "If you want the future behaviour and silence this warning, you can specify \"categories='auto'\".\n",
      "In case you used a LabelEncoder before this OneHotEncoder to convert the categories to integers, then you can now use the OneHotEncoder directly.\n",
      "  warnings.warn(msg, FutureWarning)\n",
      "C:\\Users\\Gulraiz\\Anaconda3\\lib\\site-packages\\sklearn\\preprocessing\\_encoders.py:371: FutureWarning: The handling of integer data will change in version 0.22. Currently, the categories are determined based on the range [0, max(values)], while in the future they will be determined based on the unique values.\n",
      "If you want the future behaviour and silence this warning, you can specify \"categories='auto'\".\n",
      "In case you used a LabelEncoder before this OneHotEncoder to convert the categories to integers, then you can now use the OneHotEncoder directly.\n",
      "  warnings.warn(msg, FutureWarning)\n",
      "C:\\Users\\Gulraiz\\Anaconda3\\lib\\site-packages\\sklearn\\preprocessing\\_encoders.py:371: FutureWarning: The handling of integer data will change in version 0.22. Currently, the categories are determined based on the range [0, max(values)], while in the future they will be determined based on the unique values.\n",
      "If you want the future behaviour and silence this warning, you can specify \"categories='auto'\".\n",
      "In case you used a LabelEncoder before this OneHotEncoder to convert the categories to integers, then you can now use the OneHotEncoder directly.\n",
      "  warnings.warn(msg, FutureWarning)\n",
      "C:\\Users\\Gulraiz\\Anaconda3\\lib\\site-packages\\sklearn\\preprocessing\\_encoders.py:371: FutureWarning: The handling of integer data will change in version 0.22. Currently, the categories are determined based on the range [0, max(values)], while in the future they will be determined based on the unique values.\n",
      "If you want the future behaviour and silence this warning, you can specify \"categories='auto'\".\n",
      "In case you used a LabelEncoder before this OneHotEncoder to convert the categories to integers, then you can now use the OneHotEncoder directly.\n",
      "  warnings.warn(msg, FutureWarning)\n",
      "C:\\Users\\Gulraiz\\Anaconda3\\lib\\site-packages\\sklearn\\preprocessing\\_encoders.py:371: FutureWarning: The handling of integer data will change in version 0.22. Currently, the categories are determined based on the range [0, max(values)], while in the future they will be determined based on the unique values.\n",
      "If you want the future behaviour and silence this warning, you can specify \"categories='auto'\".\n",
      "In case you used a LabelEncoder before this OneHotEncoder to convert the categories to integers, then you can now use the OneHotEncoder directly.\n",
      "  warnings.warn(msg, FutureWarning)\n",
      "C:\\Users\\Gulraiz\\Anaconda3\\lib\\site-packages\\sklearn\\preprocessing\\_encoders.py:371: FutureWarning: The handling of integer data will change in version 0.22. Currently, the categories are determined based on the range [0, max(values)], while in the future they will be determined based on the unique values.\n",
      "If you want the future behaviour and silence this warning, you can specify \"categories='auto'\".\n",
      "In case you used a LabelEncoder before this OneHotEncoder to convert the categories to integers, then you can now use the OneHotEncoder directly.\n",
      "  warnings.warn(msg, FutureWarning)\n",
      "C:\\Users\\Gulraiz\\Anaconda3\\lib\\site-packages\\sklearn\\preprocessing\\_encoders.py:371: FutureWarning: The handling of integer data will change in version 0.22. Currently, the categories are determined based on the range [0, max(values)], while in the future they will be determined based on the unique values.\n",
      "If you want the future behaviour and silence this warning, you can specify \"categories='auto'\".\n",
      "In case you used a LabelEncoder before this OneHotEncoder to convert the categories to integers, then you can now use the OneHotEncoder directly.\n",
      "  warnings.warn(msg, FutureWarning)\n"
     ]
    }
   ],
   "source": [
    "#Since the above function coverts the column, one at a time\n",
    "#We create a loop to create the final dataset with all features\n",
    "temp = df_new[numeric_columns]\n",
    "for column in categorical_columns:\n",
    "    temp_df = create_ohe(df_new,column)\n",
    "    temp = pd.concat([temp,temp_df],axis=1)"
   ]
  },
  {
   "cell_type": "code",
   "execution_count": 26,
   "metadata": {},
   "outputs": [
    {
     "name": "stdout",
     "output_type": "stream",
     "text": [
      "Shape of Data: (1017209, 44)\n",
      "Distinct Datatypes: [dtype('int64') dtype('O') dtype('float64')]\n"
     ]
    }
   ],
   "source": [
    "print(\"Shape of Data:\",temp.shape)\n",
    "print(\"Distinct Datatypes:\",temp.dtypes.unique())"
   ]
  },
  {
   "cell_type": "markdown",
   "metadata": {},
   "source": [
    "As you can see, the shape of the data looks good with the new one-hot encoded form of data, but there is at least one column that has object as the data type within our dataframe. Let’s check which column is still pending for data treatment."
   ]
  },
  {
   "cell_type": "code",
   "execution_count": 27,
   "metadata": {},
   "outputs": [
    {
     "name": "stdout",
     "output_type": "stream",
     "text": [
      "Index(['StateHoliday'], dtype='object')\n"
     ]
    }
   ],
   "source": [
    "print(temp.columns[temp.dtypes==\"object\"])"
   ]
  },
  {
   "cell_type": "code",
   "execution_count": 28,
   "metadata": {},
   "outputs": [
    {
     "data": {
      "text/plain": [
       "array(['0', 'a', 'b', 'c', 0], dtype=object)"
      ]
     },
     "execution_count": 28,
     "metadata": {},
     "output_type": "execute_result"
    }
   ],
   "source": [
    "temp[\"StateHoliday\"].unique()"
   ]
  },
  {
   "cell_type": "markdown",
   "metadata": {},
   "source": [
    "The feature seems to have incorrect values. Ideally, StateHoliday should have either a 0 or 1 as the possible values to indicate whether it is a holiday or not. Let’s repair the feature by replacing all values of “a,” “b,” and “c” with 1 and the rest with 0, therefore converting the variable as numeric."
   ]
  },
  {
   "cell_type": "code",
   "execution_count": 29,
   "metadata": {},
   "outputs": [
    {
     "data": {
      "text/plain": [
       "array([dtype('int64'), dtype('int32'), dtype('float64')], dtype=object)"
      ]
     },
     "execution_count": 29,
     "metadata": {},
     "output_type": "execute_result"
    }
   ],
   "source": [
    "temp[\"StateHoliday\"]= np.where(temp[\"StateHoliday\"]== '0',0,1)\n",
    "#One last check the data tpye\n",
    "temp.dtypes.unique()"
   ]
  },
  {
   "cell_type": "markdown",
   "metadata": {},
   "source": [
    "### TRAIN_TEST_SPLIT"
   ]
  },
  {
   "cell_type": "code",
   "execution_count": 30,
   "metadata": {},
   "outputs": [],
   "source": [
    "#Create train and test dataset with an 80:20 split\n",
    "x_train, x_test, y_train, y_test = train_test_split(temp,df_new[target],test_size=0.2,random_state=2018)\n",
    "\n",
    "#Further divide training dataset into train and validation dataset with an 90:10 split\n",
    "x_train, x_val, y_train, y_val = train_test_split(x_train,y_train,test_size=0.1,random_state=2018)"
   ]
  },
  {
   "cell_type": "code",
   "execution_count": 31,
   "metadata": {},
   "outputs": [
    {
     "name": "stdout",
     "output_type": "stream",
     "text": [
      "Shape of x_train: (732390, 44)\n",
      "Shape of x_val: (81377, 44)\n",
      "Shape of x_test: (203442, 44)\n",
      "Shape of y_train: (732390, 1)\n",
      "Shape of y_val: (81377, 1)\n",
      "Shape of y_test: (203442, 1)\n"
     ]
    }
   ],
   "source": [
    "#Check the sizes of all newly created datasets\n",
    "print(\"Shape of x_train:\",x_train.shape)\n",
    "print(\"Shape of x_val:\",x_val.shape)\n",
    "print(\"Shape of x_test:\",x_test.shape)\n",
    "print(\"Shape of y_train:\",y_train.shape)\n",
    "print(\"Shape of y_val:\",y_val.shape)\n",
    "print(\"Shape of y_test:\",y_test.shape)"
   ]
  },
  {
   "cell_type": "markdown",
   "metadata": {},
   "source": [
    "## Creating Baseline Accuracy"
   ]
  },
  {
   "cell_type": "code",
   "execution_count": 32,
   "metadata": {},
   "outputs": [
    {
     "name": "stdout",
     "output_type": "stream",
     "text": [
      "Average Sales : Sales    5773.099997\n",
      "dtype: float64\n"
     ]
    }
   ],
   "source": [
    "#calcualte the average score of the train dataset\n",
    "mean_sales = y_train.mean()\n",
    "print(\"Average Sales :\",mean_sales)"
   ]
  },
  {
   "cell_type": "code",
   "execution_count": 33,
   "metadata": {},
   "outputs": [
    {
     "name": "stdout",
     "output_type": "stream",
     "text": [
      "MAE for Test Data: 2883.587604303215\n"
     ]
    }
   ],
   "source": [
    "#Calculate the Mean Absolute Error on the test dataset\n",
    "print(\"MAE for Test Data:\",abs(y_test - mean_sales).mean()[0])"
   ]
  },
  {
   "cell_type": "markdown",
   "metadata": {},
   "source": [
    "So, our baseline performance is 2,883.58. If our DL model doesn’t deliver results better (i.e., lower) than the baseline score, then it would barely add any value"
   ]
  },
  {
   "cell_type": "markdown",
   "metadata": {},
   "source": [
    "## Designing the DNN"
   ]
  },
  {
   "cell_type": "code",
   "execution_count": 34,
   "metadata": {},
   "outputs": [
    {
     "name": "stderr",
     "output_type": "stream",
     "text": [
      "Using TensorFlow backend.\n"
     ]
    },
    {
     "name": "stdout",
     "output_type": "stream",
     "text": [
      "WARNING:tensorflow:From C:\\Users\\Gulraiz\\Anaconda3\\lib\\site-packages\\keras\\backend\\tensorflow_backend.py:74: The name tf.get_default_graph is deprecated. Please use tf.compat.v1.get_default_graph instead.\n",
      "\n",
      "WARNING:tensorflow:From C:\\Users\\Gulraiz\\Anaconda3\\lib\\site-packages\\keras\\backend\\tensorflow_backend.py:517: The name tf.placeholder is deprecated. Please use tf.compat.v1.placeholder instead.\n",
      "\n",
      "WARNING:tensorflow:From C:\\Users\\Gulraiz\\Anaconda3\\lib\\site-packages\\keras\\backend\\tensorflow_backend.py:4138: The name tf.random_uniform is deprecated. Please use tf.random.uniform instead.\n",
      "\n",
      "WARNING:tensorflow:From C:\\Users\\Gulraiz\\Anaconda3\\lib\\site-packages\\keras\\optimizers.py:790: The name tf.train.Optimizer is deprecated. Please use tf.compat.v1.train.Optimizer instead.\n",
      "\n",
      "WARNING:tensorflow:From C:\\Users\\Gulraiz\\Anaconda3\\lib\\site-packages\\keras\\backend\\tensorflow_backend.py:986: The name tf.assign_add is deprecated. Please use tf.compat.v1.assign_add instead.\n",
      "\n",
      "WARNING:tensorflow:From C:\\Users\\Gulraiz\\Anaconda3\\lib\\site-packages\\keras\\backend\\tensorflow_backend.py:973: The name tf.assign is deprecated. Please use tf.compat.v1.assign instead.\n",
      "\n",
      "Train on 732390 samples, validate on 81377 samples\n",
      "Epoch 1/10\n",
      "732390/732390 [==============================] - 82s 112us/step - loss: 956.7188 - mean_absolute_error: 956.7188 - val_loss: 832.6774 - val_mean_absolute_error: 832.6774\n",
      "Epoch 2/10\n",
      "732390/732390 [==============================] - 77s 105us/step - loss: 786.0352 - mean_absolute_error: 786.0352 - val_loss: 756.2800 - val_mean_absolute_error: 756.2800\n",
      "Epoch 3/10\n",
      "732390/732390 [==============================] - 77s 105us/step - loss: 742.8131 - mean_absolute_error: 742.8131 - val_loss: 735.5273 - val_mean_absolute_error: 735.5273\n",
      "Epoch 4/10\n",
      "732390/732390 [==============================] - 74s 100us/step - loss: 724.1615 - mean_absolute_error: 724.1615 - val_loss: 716.7812 - val_mean_absolute_error: 716.7812\n",
      "Epoch 5/10\n",
      "732390/732390 [==============================] - 74s 100us/step - loss: 712.5848 - mean_absolute_error: 712.5848 - val_loss: 699.0271 - val_mean_absolute_error: 699.0271\n",
      "Epoch 6/10\n",
      "732390/732390 [==============================] - 75s 103us/step - loss: 705.2569 - mean_absolute_error: 705.2569 - val_loss: 713.7827 - val_mean_absolute_error: 713.7827\n",
      "Epoch 7/10\n",
      "732390/732390 [==============================] - 76s 104us/step - loss: 700.5167 - mean_absolute_error: 700.5167 - val_loss: 706.3978 - val_mean_absolute_error: 706.3978\n",
      "Epoch 8/10\n",
      "732390/732390 [==============================] - 74s 102us/step - loss: 697.1914 - mean_absolute_error: 697.1914 - val_loss: 695.4975 - val_mean_absolute_error: 695.4975\n",
      "Epoch 9/10\n",
      "732390/732390 [==============================] - 76s 103us/step - loss: 694.0273 - mean_absolute_error: 694.0273 - val_loss: 695.1767 - val_mean_absolute_error: 695.1767\n",
      "Epoch 10/10\n",
      "732390/732390 [==============================] - 74s 101us/step - loss: 689.6116 - mean_absolute_error: 689.6116 - val_loss: 693.7117 - val_mean_absolute_error: 693.7117\n"
     ]
    },
    {
     "data": {
      "text/plain": [
       "<keras.callbacks.History at 0x18eb39c1cf8>"
      ]
     },
     "execution_count": 34,
     "metadata": {},
     "output_type": "execute_result"
    }
   ],
   "source": [
    "#Create Deep Neural Network Architecuture\n",
    "from keras import Sequential\n",
    "from keras.layers import Dense, Dropout\n",
    "\n",
    "model = Sequential()\n",
    "model.add(Dense(150,input_dim = 44,activation=\"relu\"))\n",
    "model.add(Dense(1,activation = \"linear\"))\n",
    "\n",
    "#Configure the model\n",
    "model.compile(optimizer='adam', loss=\"mean_absolute_error\", metrics=[\"mean_absolute_error\"])\n",
    "\n",
    "#Train the model\n",
    "model.fit(x_train,y_train, validation_data=(x_val,y_val),epochs=10,batch_size=64)"
   ]
  },
  {
   "cell_type": "markdown",
   "metadata": {},
   "source": [
    "## Testing the Model Performance"
   ]
  },
  {
   "cell_type": "code",
   "execution_count": 35,
   "metadata": {},
   "outputs": [
    {
     "name": "stdout",
     "output_type": "stream",
     "text": [
      "203442/203442 [==============================] - 11s 53us/step\n",
      "Metric  loss : 690.66\n",
      "Metric  mean_absolute_error : 690.66\n"
     ]
    }
   ],
   "source": [
    "#Use the model's evaluate method to predict and evaluate the test datasets\n",
    "result = model.evaluate(x_test,y_test)\n",
    "\n",
    "#Print the results\n",
    "for i in range(len(model.metrics_names)):\n",
    "    print(\"Metric \",model.metrics_names[i],\":\",str(round(result[i],2)))"
   ]
  },
  {
   "cell_type": "markdown",
   "metadata": {},
   "source": [
    "## Improving the Model"
   ]
  },
  {
   "cell_type": "code",
   "execution_count": 36,
   "metadata": {},
   "outputs": [
    {
     "name": "stdout",
     "output_type": "stream",
     "text": [
      "Train on 732390 samples, validate on 81377 samples\n",
      "Epoch 1/10\n",
      "732390/732390 [==============================] - 95s 129us/step - loss: 1743867.9073 - mean_absolute_error: 853.8705 - val_loss: 1425314.7554 - val_mean_absolute_error: 829.3042\n",
      "Epoch 2/10\n",
      "732390/732390 [==============================] - 96s 131us/step - loss: 1135878.3935 - mean_absolute_error: 717.7996 - val_loss: 1041553.5397 - val_mean_absolute_error: 684.6687\n",
      "Epoch 3/10\n",
      "732390/732390 [==============================] - 100s 136us/step - loss: 1084998.3916 - mean_absolute_error: 700.2439 - val_loss: 1039434.3040 - val_mean_absolute_error: 683.5080\n",
      "Epoch 4/10\n",
      "732390/732390 [==============================] - 95s 130us/step - loss: 1050516.9114 - mean_absolute_error: 689.1223 - val_loss: 1076644.0307 - val_mean_absolute_error: 702.3994\n",
      "Epoch 5/10\n",
      "732390/732390 [==============================] - 96s 131us/step - loss: 1026060.2103 - mean_absolute_error: 681.5800 - val_loss: 1046874.4847 - val_mean_absolute_error: 704.4567\n",
      "Epoch 6/10\n",
      "732390/732390 [==============================] - 91s 125us/step - loss: 1002745.3928 - mean_absolute_error: 674.4041 - val_loss: 924171.5864 - val_mean_absolute_error: 656.7393\n",
      "Epoch 7/10\n",
      "732390/732390 [==============================] - 94s 128us/step - loss: 985967.4502 - mean_absolute_error: 669.0100 - val_loss: 923188.3221 - val_mean_absolute_error: 652.0819\n",
      "Epoch 8/10\n",
      "732390/732390 [==============================] - 95s 129us/step - loss: 964949.7713 - mean_absolute_error: 663.1718 - val_loss: 915247.8317 - val_mean_absolute_error: 656.1216\n",
      "Epoch 9/10\n",
      "732390/732390 [==============================] - 108s 147us/step - loss: 948721.3907 - mean_absolute_error: 658.0972 - val_loss: 976156.5319 - val_mean_absolute_error: 668.4056\n",
      "Epoch 10/10\n",
      "732390/732390 [==============================] - 89s 122us/step - loss: 929342.3761 - mean_absolute_error: 651.2522 - val_loss: 874682.9837 - val_mean_absolute_error: 634.9239\n"
     ]
    }
   ],
   "source": [
    "model = Sequential()\n",
    "model.add(Dense(150,input_dim = 44,activation=\"relu\"))\n",
    "model.add(Dense(150,activation=\"relu\"))\n",
    "model.add(Dense(150,activation=\"relu\"))\n",
    "model.add(Dense(1,activation = \"linear\"))\n",
    "\n",
    "model.compile(optimizer='adam',loss=\"mean_squared_error\",metrics=[\"mean_absolute_error\"])\n",
    "\n",
    "history = model.fit(x_train,y_train, validation_data=(x_val,y_val),epochs=10,batch_size=64)"
   ]
  },
  {
   "cell_type": "code",
   "execution_count": 38,
   "metadata": {},
   "outputs": [
    {
     "name": "stdout",
     "output_type": "stream",
     "text": [
      "Metric  loss : 690.66\n",
      "Metric  mean_absolute_error : 690.66\n"
     ]
    }
   ],
   "source": [
    "#result = model.evaluate(x_test,y_test)\n",
    "for i in range(len(model.metrics_names)):\n",
    "    print(\"Metric \",model.metrics_names[i],\":\",str(round(result[i],2)))"
   ]
  },
  {
   "cell_type": "code",
   "execution_count": null,
   "metadata": {},
   "outputs": [],
   "source": [
    "model = Sequential()\n",
    "model.add(Dense(150,input_dim = 44,activation=\"relu\"))\n",
    "model.add(Dense(150,activation=\"relu\"))\n",
    "model.add(Dense(150,activation=\"relu\"))\n",
    "model.add(Dense(150,activation=\"relu\"))\n",
    "model.add(Dense(150,activation=\"relu\"))\n",
    "model.add(Dense(1,activation = \"linear\"))\n",
    "\n",
    "model.compile(optimizer='adam',loss=\"mean_squared_error\",metrics=[\"mean_absolute_error\"])\n",
    "\n",
    "model.fit(x_train,y_train, validation_data=(x_val,y_val),epochs=15,batch_size=64)"
   ]
  },
  {
   "cell_type": "code",
   "execution_count": null,
   "metadata": {},
   "outputs": [],
   "source": [
    "result = model.evaluate(x_test,y_test)\n",
    "for i in range(len(model.metrics_names)):\n",
    "    print(\"Metric \",model.metrics_names[i],\":\",str(round(result[i],2)))"
   ]
  },
  {
   "cell_type": "markdown",
   "metadata": {},
   "source": [
    "## Increasing the Number of Neurons"
   ]
  },
  {
   "cell_type": "code",
   "execution_count": null,
   "metadata": {},
   "outputs": [],
   "source": [
    "model = Sequential()\n",
    "model.add(Dense(350,input_dim = 44,activation=\"relu\"))\n",
    "model.add(Dense(350,activation=\"relu\"))\n",
    "model.add(Dense(1,activation = \"linear\"))\n",
    "\n",
    "model.compile(optimizer='adam',loss=\"mean_squared_error\",metrics=[\"mean_absolute_error\"])\n",
    "\n",
    "model.fit(x_train,y_train, validation_data=(x_val,y_val),epochs=15,batch_size=64)"
   ]
  },
  {
   "cell_type": "code",
   "execution_count": null,
   "metadata": {},
   "outputs": [],
   "source": [
    "result = model.evaluate(x_test,y_test)\n",
    "for i in range(len(model.metrics_names)):\n",
    "    print(\"Metric \",model.metrics_names[i],\":\",str(round(result[i],2)))"
   ]
  },
  {
   "cell_type": "markdown",
   "metadata": {},
   "source": [
    "## Training the model with increased number of epochs"
   ]
  },
  {
   "cell_type": "code",
   "execution_count": null,
   "metadata": {},
   "outputs": [],
   "source": [
    "from keras.callbacks import History \n",
    "history = History()\n",
    "\n",
    "model = Sequential()\n",
    "model.add(Dense(350,input_dim = 44,activation=\"relu\"))\n",
    "model.add(Dense(350,activation=\"relu\"))\n",
    "model.add(Dense(350,activation=\"relu\"))\n",
    "model.add(Dense(350,activation=\"relu\"))\n",
    "model.add(Dense(350,activation=\"relu\"))\n",
    "model.add(Dense(1,activation = \"linear\"))\n",
    "\n",
    "model.compile(optimizer='adam',loss=\"mean_squared_error\",metrics=[\"mean_absolute_error\"])\n",
    "\n",
    "model.fit(x_train,y_train, validation_data=(x_val,y_val), \n",
    "epochs=15,batch_size=64,callbacks=[history])\n",
    "\n",
    "result = model.evaluate(x_test,y_test)\n",
    "\n",
    "for i in range(len(model.metrics_names)):\n",
    "    print(\"Metric \",model.metrics_names[i],\":\",str(round(result[i],2)))"
   ]
  },
  {
   "cell_type": "markdown",
   "metadata": {},
   "source": [
    "## Plotting the Loss Metric Across Epochs"
   ]
  },
  {
   "cell_type": "code",
   "execution_count": null,
   "metadata": {},
   "outputs": [],
   "source": [
    "plt.plot(history.history['loss'])\n",
    "plt.plot(history.history['val_loss'])\n",
    "plt.title(\"Model's Training & Validation loss across epochs\")\n",
    "plt.ylabel('Loss')\n",
    "plt.xlabel('Epochs')\n",
    "plt.legend(['Train', 'Validation'], loc='upper right')\n",
    "plt.show()"
   ]
  },
  {
   "cell_type": "markdown",
   "metadata": {},
   "source": [
    "## Testing the Model Manually"
   ]
  },
  {
   "cell_type": "code",
   "execution_count": null,
   "metadata": {},
   "outputs": [],
   "source": [
    "#Manually predicting from the model, instead of using model's evaluate function\n",
    "y_test[\"Prediction\"] = model.predict(x_test)\n",
    "y_test.columns = [\"Actual Sales\",\"Predicted Sales\"]\n",
    "print(y_test.head(10))\n",
    "\n",
    "#Manually predicting from the model, instead of using model's evaluate function\n",
    "from sklearn.metrics import mean_squared_error, mean_absolute_error\n",
    "print(\"MSE :\",mean_squared_error(y_test[\"Actual Sales\"].values,y_test[\"Predicted Sales\"].values))\n",
    "print(\"MAE :\",mean_absolute_error(y_test[\"Actual Sales\"].values,y_test[\"Predicted Sales\"].values))"
   ]
  }
 ],
 "metadata": {
  "kernelspec": {
   "display_name": "Python 3",
   "language": "python",
   "name": "python3"
  },
  "language_info": {
   "codemirror_mode": {
    "name": "ipython",
    "version": 3
   },
   "file_extension": ".py",
   "mimetype": "text/x-python",
   "name": "python",
   "nbconvert_exporter": "python",
   "pygments_lexer": "ipython3",
   "version": "3.7.3"
  }
 },
 "nbformat": 4,
 "nbformat_minor": 2
}
